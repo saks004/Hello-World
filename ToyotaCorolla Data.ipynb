{
 "cells": [
  {
   "cell_type": "markdown",
   "id": "1cce11ce",
   "metadata": {},
   "source": [
    "Assignment 1: Sakshum Singh\n",
    "\n",
    "Question 1\n",
    "a. Deciding whether to issue a loan to an applicant based on demographic and financial data (with reference to a database of similar data on prior customers)\n",
    "Answer: Supervised Learning\n",
    "\n",
    "b. In an online bookstore, making recommendations to customers concerning additional items to buy based on the buying patterns in prior transactions.\n",
    "Answer: Unsupervised Learning\n",
    "\n",
    "c. Identifying a network data packet as dangerous (virus, hacker attack) based on comparison to other packets whose threat status is known.\n",
    "Answer: Supervised Learning\n",
    "\n",
    "d. Identifying segments of similar customers.\n",
    "Answer: Unsupervised Learning\n",
    "\n",
    "e. Predicting whether a company will go bankrupt based on comparing its financial data to those of similar bankrupt and nonbankrupt firms.\n",
    "Answer: Supervised Learning\n",
    "\n",
    "f. Estimating the repair time required for an aircraft based on a trouble ticket.\n",
    "Answer: Supervised Learning\n",
    "\n",
    "g. Automated sorting of mail by zip code scanning.\n",
    "Answer: Unsupervised Learning\n",
    "\n",
    "h. Printing of custom discount coupons at the conclusion of a grocery store checkout based on what you just bought and what others have bought previously.\n",
    "Answer: Supervised Learning\n"
   ]
  },
  {
   "cell_type": "markdown",
   "id": "a71da146",
   "metadata": {},
   "source": [
    "Question 5\n",
    "\n",
    "\n",
    "\n"
   ]
  },
  {
   "cell_type": "code",
   "execution_count": 9,
   "id": "849a547a",
   "metadata": {},
   "outputs": [],
   "source": [
    "#Question 8\n",
    "import numpy as np\n",
    "import pandas as pd"
   ]
  },
  {
   "cell_type": "code",
   "execution_count": 10,
   "id": "ddb24e05",
   "metadata": {},
   "outputs": [
    {
     "name": "stdout",
     "output_type": "stream",
     "text": [
      "   Age  Income $\n",
      "0   25     49000\n",
      "1   56    156000\n",
      "2   65     99000\n",
      "3   32    192000\n",
      "4   41     39000\n",
      "5   49     57000\n"
     ]
    }
   ],
   "source": [
    "df = pd.DataFrame ({'Age': [25,56,65,32,41,49] , 'Income $':[49000,156000,99000,192000,39000,57000]})\n",
    "print(df)"
   ]
  },
  {
   "cell_type": "code",
   "execution_count": 11,
   "id": "610bf1f6",
   "metadata": {},
   "outputs": [],
   "source": [
    "from sklearn import preprocessing \n",
    "from sklearn.preprocessing import StandardScaler"
   ]
  },
  {
   "cell_type": "code",
   "execution_count": 13,
   "id": "eb173db9",
   "metadata": {},
   "outputs": [
    {
     "name": "stdout",
     "output_type": "stream",
     "text": [
      "        Age  Income $\n",
      "0 -1.438597 -0.865431\n",
      "1  0.829022  0.999021\n",
      "2  1.487363  0.005808\n",
      "3 -0.926554  1.626314\n",
      "4 -0.268213 -1.039679\n",
      "5  0.316979 -0.726033\n"
     ]
    }
   ],
   "source": [
    "Scaler = StandardScaler()\n",
    "Norm_df= pd.DataFrame(Scaler.fit_transform(df), index=df.index, columns= df.columns) \n",
    "print(Norm_df)"
   ]
  },
  {
   "cell_type": "markdown",
   "id": "b2fb5d9c",
   "metadata": {},
   "source": [
    "question 10"
   ]
  },
  {
   "cell_type": "code",
   "execution_count": 14,
   "id": "48f34d20",
   "metadata": {},
   "outputs": [],
   "source": [
    "#Question 11\n",
    "\n",
    "import numpy as np\n",
    "import pandas as pd\n",
    "from sklearn.model_selection import train_test_split"
   ]
  },
  {
   "cell_type": "code",
   "execution_count": 24,
   "id": "5cc20e6f",
   "metadata": {},
   "outputs": [
    {
     "ename": "SyntaxError",
     "evalue": "(unicode error) 'unicodeescape' codec can't decode bytes in position 0-1: truncated \\UXXXXXXXX escape (2580881855.py, line 1)",
     "output_type": "error",
     "traceback": [
      "\u001b[1;36m  Input \u001b[1;32mIn [24]\u001b[1;36m\u001b[0m\n\u001b[1;33m    toyotadata_df = pd.read_csv('\\Users\\Administrator\\Desktop\\GBC\\SEM2\\ToyotaCorolla.csv')\u001b[0m\n\u001b[1;37m                                                                                         ^\u001b[0m\n\u001b[1;31mSyntaxError\u001b[0m\u001b[1;31m:\u001b[0m (unicode error) 'unicodeescape' codec can't decode bytes in position 0-1: truncated \\UXXXXXXXX escape\n"
     ]
    }
   ],
   "source": [
    "toyotadata_df = pd.read_csv('\\Users\\Administrator\\Desktop\\GBC\\SEM2\\ToyotaCorolla.csv')"
   ]
  },
  {
   "cell_type": "code",
   "execution_count": 22,
   "id": "cd435073",
   "metadata": {},
   "outputs": [
    {
     "ename": "NameError",
     "evalue": "name 'toyotadata_df' is not defined",
     "output_type": "error",
     "traceback": [
      "\u001b[1;31m---------------------------------------------------------------------------\u001b[0m",
      "\u001b[1;31mNameError\u001b[0m                                 Traceback (most recent call last)",
      "Input \u001b[1;32mIn [22]\u001b[0m, in \u001b[0;36m<cell line: 1>\u001b[1;34m()\u001b[0m\n\u001b[1;32m----> 1\u001b[0m \u001b[43mtoyotadata_df\u001b[49m\u001b[38;5;241m.\u001b[39mdtypes\n",
      "\u001b[1;31mNameError\u001b[0m: name 'toyotadata_df' is not defined"
     ]
    }
   ],
   "source": [
    "toyotadata_df.dtypes"
   ]
  },
  {
   "cell_type": "code",
   "execution_count": null,
   "id": "d444ac4a",
   "metadata": {},
   "outputs": [],
   "source": [
    "toyotadata_df['Fuel_Type']"
   ]
  },
  {
   "cell_type": "code",
   "execution_count": null,
   "id": "887f19d8",
   "metadata": {},
   "outputs": [],
   "source": [
    "toyotadata_df['Color']"
   ]
  },
  {
   "cell_type": "code",
   "execution_count": null,
   "id": "8dbc9ecd",
   "metadata": {},
   "outputs": [],
   "source": [
    "toyotadata_df.Fuel_Type = toyotadata_df.Fuel_Type.astype('category')\n",
    "toyotadata_df.Color = toyotadata_df.Color.astype('category')"
   ]
  },
  {
   "cell_type": "code",
   "execution_count": null,
   "id": "9db86063",
   "metadata": {},
   "outputs": [],
   "source": [
    "print(toyotadata_df.Fuel_Type.dtype)"
   ]
  },
  {
   "cell_type": "code",
   "execution_count": null,
   "id": "1419e130",
   "metadata": {},
   "outputs": [],
   "source": [
    "print(toyotadata_df.Color.dtype)"
   ]
  },
  {
   "cell_type": "code",
   "execution_count": null,
   "id": "07c9ddf8",
   "metadata": {},
   "outputs": [],
   "source": [
    "toyotadata_df = pd.get_dummies(toyotadata_df, prefix_sep='_', drop_first=True)"
   ]
  },
  {
   "cell_type": "code",
   "execution_count": null,
   "id": "109c2b52",
   "metadata": {},
   "outputs": [],
   "source": [
    "toyotadata_df.columns"
   ]
  },
  {
   "cell_type": "code",
   "execution_count": null,
   "id": "ba484c16",
   "metadata": {},
   "outputs": [],
   "source": [
    "print(toyotadata_df.loc[:, ('Fuel_Type_Petrol', 'Fuel_Type_Diesel')])"
   ]
  },
  {
   "cell_type": "code",
   "execution_count": null,
   "id": "d26e0600",
   "metadata": {},
   "outputs": [],
   "source": [
    "print(toyotadata_df.loc[:, ('Color_Black','Color_Blue','Color_Green',\n",
    "       'Color_Grey', 'Color_Red', 'Color_Silver', 'Color_Violet',\n",
    "       'Color_White', 'Color_Yellow')])"
   ]
  },
  {
   "cell_type": "code",
   "execution_count": null,
   "id": "b967ddd6",
   "metadata": {},
   "outputs": [],
   "source": [
    "toyotadata_df.to_csv('C:\\Users\\Administrator\\Desktop\\GBC\\SEM2\\ToyotaCorolla')"
   ]
  },
  {
   "cell_type": "code",
   "execution_count": null,
   "id": "f8f0f741",
   "metadata": {},
   "outputs": [],
   "source": [
    "trainData, temp = train_test_split(toyota_df, test_size=0.5, random_state=1)\n",
    "validData, testData = train_test_split(temp, test_size=0.3, random_state=1)\n",
    "print('Training : ', trainData.shape)\n",
    "print('Validation : ', validData.shape)\n",
    "print('Test : ', testData.shape)"
   ]
  }
 ],
 "metadata": {
  "kernelspec": {
   "display_name": "Python 3 (ipykernel)",
   "language": "python",
   "name": "python3"
  },
  "language_info": {
   "codemirror_mode": {
    "name": "ipython",
    "version": 3
   },
   "file_extension": ".py",
   "mimetype": "text/x-python",
   "name": "python",
   "nbconvert_exporter": "python",
   "pygments_lexer": "ipython3",
   "version": "3.9.12"
  }
 },
 "nbformat": 4,
 "nbformat_minor": 5
}
